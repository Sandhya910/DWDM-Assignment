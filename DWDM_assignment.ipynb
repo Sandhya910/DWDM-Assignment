{
 "cells": [
  {
   "cell_type": "code",
   "execution_count": 2,
   "id": "4355b634",
   "metadata": {},
   "outputs": [],
   "source": [
    "import streamlit as st\n",
    "\n",
    "def min_max_normalize(data):\n",
    "    \"\"\"\n",
    "    Perform min-max normalization on the input data.\n",
    "    \n",
    "    Parameters:\n",
    "        data (list): Input data to be normalized.\n",
    "    \n",
    "    Returns:\n",
    "        list: Normalized data.\n",
    "    \"\"\"\n",
    "    min_val = min(data)\n",
    "    max_val = max(data)\n",
    "    normalized_data = [(x - min_val) / (max_val - min_val) for x in data]\n",
    "    return normalized_data\n",
    "\n",
    "def main():\n",
    "    st.title('Min-Max Normalization App')\n",
    "    st.write('This app allows you to perform min-max normalization on a list of numbers.')\n",
    "\n",
    "    # Input data\n",
    "    data_input = st.text_input(\"Enter comma-separated numbers:\", \"1, 2, 3, 4, 5\")\n",
    "\n",
    "    if st.button('Normalize'):\n",
    "        try:\n",
    "            # Convert input to list of floats\n",
    "            data = [float(x.strip()) for x in data_input.split(',')]\n",
    "            # Perform min-max normalization\n",
    "            normalized_data = min_max_normalize(data)\n",
    "            # Display normalized data\n",
    "            st.write('Normalized Data:', normalized_data)\n",
    "        except ValueError:\n",
    "            st.error('Invalid input. Please enter comma-separated numbers.')\n",
    "\n",
    "if __name__ == '__main__':\n",
    "    main()\n"
   ]
  },
  {
   "cell_type": "code",
   "execution_count": null,
   "id": "8bac05a2",
   "metadata": {},
   "outputs": [],
   "source": []
  }
 ],
 "metadata": {
  "kernelspec": {
   "display_name": "Python 3 (ipykernel)",
   "language": "python",
   "name": "python3"
  },
  "language_info": {
   "codemirror_mode": {
    "name": "ipython",
    "version": 3
   },
   "file_extension": ".py",
   "mimetype": "text/x-python",
   "name": "python",
   "nbconvert_exporter": "python",
   "pygments_lexer": "ipython3",
   "version": "3.11.5"
  }
 },
 "nbformat": 4,
 "nbformat_minor": 5
}
